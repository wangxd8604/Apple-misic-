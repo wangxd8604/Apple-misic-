{
 "cells": [
  {
   "cell_type": "code",
   "execution_count": 31,
   "id": "d1f8f0cc",
   "metadata": {},
   "outputs": [],
   "source": [
    "import pandas as pd\n",
    "dict1={}\n",
    "boo=False\n",
    "global line\n",
    "global boo\n",
    "global name\n",
    "\n",
    "with open(\"资料库1.txt\", \"r\",encoding='gb18030') as f:\n",
    "    for line in f.readlines():\n",
    "        line = line.strip('\\n')\n",
    "        \n",
    "        \n",
    "        if boo:\n",
    "            dict1[name]=line\n",
    "            \n",
    "        if line.startswith('\t\t\t<key>Name</key><string>'):\n",
    "            dict1[line]='1'\n",
    "            boo=True\n",
    "            name=line\n",
    "            \n",
    "        else:\n",
    "            boo=False\n"
   ]
  },
  {
   "cell_type": "code",
   "execution_count": 36,
   "id": "540e43db",
   "metadata": {},
   "outputs": [],
   "source": [
    "series = pd.Series(dict1)\n",
    "# 转换为DataFrame对象\n",
    "df = pd.DataFrame({'Value': series})"
   ]
  },
  {
   "cell_type": "code",
   "execution_count": 38,
   "id": "dba06159",
   "metadata": {},
   "outputs": [],
   "source": [
    "df.to_excel('资料库.xlsx',index=True)"
   ]
  },
  {
   "cell_type": "code",
   "execution_count": 64,
   "id": "86c254b2",
   "metadata": {},
   "outputs": [],
   "source": [
    "df1 = pd.read_excel(\"资料库.xlsx\")"
   ]
  },
  {
   "cell_type": "code",
   "execution_count": 65,
   "id": "05ff0ffd",
   "metadata": {},
   "outputs": [],
   "source": [
    "import re\n",
    "lsname=[]\n",
    "lsartist=[]\n",
    "for i in df1['Unnamed: 0']:\n",
    "    pattern = r\"<key>Name<\\/key><string>(.*?)<\\/string>\"\n",
    "    matches = re.findall(pattern, i)\n",
    "    for a in matches:\n",
    "        lsname.append(a)\n",
    "    \n",
    "for i in df1['Value']:\n",
    "    pattern = r\"\\t\\t\\t<key>Artist</key><string>(.*?)</string>\"\n",
    "    matches =re.findall(pattern, i)\n",
    "    for a in matches:\n",
    "        a=a.replace('&#38','')\n",
    "        lsartist.append(a)\n",
    "    \n",
    "    "
   ]
  },
  {
   "cell_type": "code",
   "execution_count": 68,
   "id": "d0e97637",
   "metadata": {},
   "outputs": [],
   "source": [
    "df1['Unnamed: 0']=lsname\n",
    "df1['Value']=lsartist"
   ]
  },
  {
   "cell_type": "code",
   "execution_count": 70,
   "id": "7efdeeb6",
   "metadata": {},
   "outputs": [],
   "source": [
    "df1.to_excel('资料库2.xlsx')"
   ]
  },
  {
   "cell_type": "code",
   "execution_count": null,
   "id": "47e419a6",
   "metadata": {},
   "outputs": [],
   "source": []
  }
 ],
 "metadata": {
  "kernelspec": {
   "display_name": "Python 3 (ipykernel)",
   "language": "python",
   "name": "python3"
  },
  "language_info": {
   "codemirror_mode": {
    "name": "ipython",
    "version": 3
   },
   "file_extension": ".py",
   "mimetype": "text/x-python",
   "name": "python",
   "nbconvert_exporter": "python",
   "pygments_lexer": "ipython3",
   "version": "3.10.9"
  }
 },
 "nbformat": 4,
 "nbformat_minor": 5
}
